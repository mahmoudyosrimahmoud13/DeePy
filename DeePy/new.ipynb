{
 "cells": [
  {
   "cell_type": "code",
   "execution_count": 3,
   "metadata": {},
   "outputs": [],
   "source": [
    "from mlp import MLP\n",
    "\n"
   ]
  },
  {
   "cell_type": "code",
   "execution_count": 4,
   "metadata": {},
   "outputs": [],
   "source": [
    "from graphviz import Digraph\n",
    "\n",
    "def trace(root):\n",
    "  # builds a set of all nodes and edges in a graph\n",
    "  nodes, edges = set(), set()\n",
    "  def build(v):\n",
    "    if v not in nodes:\n",
    "      nodes.add(v)\n",
    "      for child in v._children:\n",
    "        edges.add((child, v))\n",
    "        build(child)\n",
    "  build(root)\n",
    "  return nodes, edges\n",
    "\n",
    "def draw_dot(root):\n",
    "  dot = Digraph(format='svg', graph_attr={'rankdir': 'LR'}) # LR = left to right\n",
    "  \n",
    "  nodes, edges = trace(root)\n",
    "  for n in nodes:\n",
    "    uid = str(id(n))\n",
    "    # for any value in the graph, create a rectangular ('record') node for it\n",
    "    dot.node(name = uid, label = \"{ %s | data %.4f | grad %.4f }\" % (n.name, n.data, n.grad), shape='record')\n",
    "    if n._op:\n",
    "      # if this value is a result of some operation, create an op node for it\n",
    "      dot.node(name = uid + n._op, label = n._op)\n",
    "      # and connect this node to it\n",
    "      dot.edge(uid + n._op, uid)\n",
    "\n",
    "  for n1, n2 in edges:\n",
    "    # connect n1 to the op node of n2\n",
    "    dot.edge(str(id(n1)), str(id(n2)) + n2._op)\n",
    "\n",
    "  return dot\n"
   ]
  },
  {
   "cell_type": "code",
   "execution_count": 5,
   "metadata": {},
   "outputs": [],
   "source": [
    "xs = [\n",
    "  [2.0, 3.0, -1.0],\n",
    "  [3.0, -1.0, 0.5],\n",
    "  [0.5, 1.0, 1.0],\n",
    "  [1.0, 1.0, -1.0],\n",
    "]\n",
    "ys = [1.0, -1.0, -1.0, 1.0] # desired targets"
   ]
  },
  {
   "cell_type": "code",
   "execution_count": 6,
   "metadata": {},
   "outputs": [
    {
     "data": {
      "text/plain": [
       "MLP:\n",
       "0- Layer of [Activation = tanh Neuron(inputs: 3),Activation = tanh Neuron(inputs: 3),Activation = tanh Neuron(inputs: 3)]\n",
       "1- Layer of [Activation = tanh Neuron(inputs: 3),Activation = tanh Neuron(inputs: 3),Activation = tanh Neuron(inputs: 3)]\n",
       "2- Layer of [Activation = tanh Neuron(inputs: 3)]"
      ]
     },
     "execution_count": 6,
     "metadata": {},
     "output_type": "execute_result"
    }
   ],
   "source": [
    "model = MLP(3,[3,3,1])\n",
    "model"
   ]
  },
  {
   "cell_type": "code",
   "execution_count": 9,
   "metadata": {},
   "outputs": [
    {
     "data": {
      "text/plain": [
       "[Scalar(data=0.11140266601210351, grad=0),\n",
       " Scalar(data=-0.03737601863388727, grad=0),\n",
       " Scalar(data=0.13907986726606306, grad=0),\n",
       " Scalar(data=0.062294336776679116, grad=0)]"
      ]
     },
     "execution_count": 9,
     "metadata": {},
     "output_type": "execute_result"
    }
   ],
   "source": [
    "ypred = [model(x) for x in xs] \n",
    "ypred"
   ]
  },
  {
   "cell_type": "code",
   "execution_count": 11,
   "metadata": {},
   "outputs": [
    {
     "data": {
      "text/plain": [
       "Scalar(data=3.8930450063235034, grad=0)"
      ]
     },
     "execution_count": 11,
     "metadata": {},
     "output_type": "execute_result"
    }
   ],
   "source": [
    "loss = sum([(yhat-y)**2 for yhat,y in zip(ypred,ys)])\n",
    "loss"
   ]
  },
  {
   "cell_type": "code",
   "execution_count": 13,
   "metadata": {},
   "outputs": [
    {
     "data": {
      "text/plain": [
       "[Scalar(data=0.2073793417740526, grad=0),\n",
       " Scalar(data=0.11448718051788243, grad=0),\n",
       " Scalar(data=0.1803923521705857, grad=0),\n",
       " Scalar(data=0, grad=0),\n",
       " Scalar(data=-0.9507696730371364, grad=0),\n",
       " Scalar(data=-0.09362543039259519, grad=0),\n",
       " Scalar(data=0.5672261758981587, grad=0),\n",
       " Scalar(data=0, grad=0),\n",
       " Scalar(data=-0.6089887023634686, grad=0),\n",
       " Scalar(data=-0.9593376924025712, grad=0),\n",
       " Scalar(data=0.9794838998523143, grad=0),\n",
       " Scalar(data=0, grad=0),\n",
       " Scalar(data=0.6917593858863644, grad=0),\n",
       " Scalar(data=0.43072767241653365, grad=0),\n",
       " Scalar(data=0.7403801441384537, grad=0),\n",
       " Scalar(data=0, grad=0),\n",
       " Scalar(data=-0.18553489141073864, grad=0),\n",
       " Scalar(data=-0.3132570346633301, grad=0),\n",
       " Scalar(data=0.37883549170815267, grad=0),\n",
       " Scalar(data=0, grad=0),\n",
       " Scalar(data=0.014070907211675365, grad=0),\n",
       " Scalar(data=0.24530432622780207, grad=0),\n",
       " Scalar(data=0.4593752556675883, grad=0),\n",
       " Scalar(data=0, grad=0),\n",
       " Scalar(data=0.11225382392770444, grad=0),\n",
       " Scalar(data=-0.6857066348917109, grad=0),\n",
       " Scalar(data=-0.12449683856896887, grad=0),\n",
       " Scalar(data=0, grad=0)]"
      ]
     },
     "execution_count": 13,
     "metadata": {},
     "output_type": "execute_result"
    }
   ],
   "source": [
    "model.parameters()"
   ]
  },
  {
   "cell_type": "code",
   "execution_count": null,
   "metadata": {},
   "outputs": [],
   "source": []
  }
 ],
 "metadata": {
  "kernelspec": {
   "display_name": "Python 3",
   "language": "python",
   "name": "python3"
  },
  "language_info": {
   "codemirror_mode": {
    "name": "ipython",
    "version": 3
   },
   "file_extension": ".py",
   "mimetype": "text/x-python",
   "name": "python",
   "nbconvert_exporter": "python",
   "pygments_lexer": "ipython3",
   "version": "3.11.4"
  }
 },
 "nbformat": 4,
 "nbformat_minor": 2
}
